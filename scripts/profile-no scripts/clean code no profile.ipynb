{
 "cells": [
  {
   "cell_type": "markdown",
   "metadata": {},
   "source": [
    "## deploy"
   ]
  },
  {
   "cell_type": "code",
   "execution_count": 34,
   "metadata": {},
   "outputs": [],
   "source": [
    "import pandas as pd\n",
    "import re\n",
    "import os"
   ]
  },
  {
   "cell_type": "code",
   "execution_count": 35,
   "metadata": {},
   "outputs": [],
   "source": [
    "path_dir = r'C:\\Users\\ydjoe\\Documents\\nlp\\dialog-bAbI-tasks'\n",
    "src_dir = os.path.join(path_dir,'txt files')\n",
    "dst_tmp_dir = os.path.join(path_dir,'csv files temp')\n",
    "dst_dir = os.path.join(path_dir,'csv files')\n",
    "\n",
    "lst_files = os.listdir(src_dir)"
   ]
  },
  {
   "cell_type": "code",
   "execution_count": 36,
   "metadata": {},
   "outputs": [
    {
     "name": "stdout",
     "output_type": "stream",
     "text": [
      "0 dialog-babi-candidates.txt\n",
      "1 dialog-babi-kb-all.txt\n",
      "2 dialog-babi-task1-API-calls-dev.txt\n",
      "3 dialog-babi-task1-API-calls-trn.txt\n",
      "4 dialog-babi-task1-API-calls-tst-OOV.txt\n",
      "5 dialog-babi-task1-API-calls-tst.txt\n",
      "6 dialog-babi-task2-API-refine-dev.txt\n",
      "7 dialog-babi-task2-API-refine-trn.txt\n",
      "8 dialog-babi-task2-API-refine-tst-OOV.txt\n",
      "9 dialog-babi-task2-API-refine-tst.txt\n",
      "10 dialog-babi-task3-options-dev.txt\n",
      "11 dialog-babi-task3-options-trn.txt\n",
      "12 dialog-babi-task3-options-tst-OOV.txt\n",
      "13 dialog-babi-task3-options-tst.txt\n",
      "14 dialog-babi-task4-phone-address-dev.txt\n",
      "15 dialog-babi-task4-phone-address-trn.txt\n",
      "16 dialog-babi-task4-phone-address-tst-OOV.txt\n",
      "17 dialog-babi-task4-phone-address-tst.txt\n",
      "18 dialog-babi-task5-full-dialogs-dev.txt\n",
      "19 dialog-babi-task5-full-dialogs-trn.txt\n",
      "20 dialog-babi-task5-full-dialogs-tst-OOV.txt\n",
      "21 dialog-babi-task5-full-dialogs-tst.txt\n",
      "22 dialog-babi-task6-dstc2-candidates.txt\n",
      "23 dialog-babi-task6-dstc2-dev.txt\n",
      "24 dialog-babi-task6-dstc2-kb.txt\n",
      "25 dialog-babi-task6-dstc2-trn.txt\n",
      "26 dialog-babi-task6-dstc2-tst.txt\n",
      "27 LICENSE.txt\n",
      "28 README.txt\n"
     ]
    }
   ],
   "source": [
    "iter_tp = 0\n",
    "for iter_fl in lst_files:\n",
    "    print(iter_tp,iter_fl)\n",
    "    iter_tp+=1"
   ]
  },
  {
   "cell_type": "markdown",
   "metadata": {},
   "source": [
    "## task 1,2"
   ]
  },
  {
   "cell_type": "code",
   "execution_count": 79,
   "metadata": {},
   "outputs": [
    {
     "name": "stdout",
     "output_type": "stream",
     "text": [
      "C:\\Users\\ydjoe\\Documents\\nlp\\dialog-bAbI-tasks\\txt files\\dialog-babi-task1-API-calls-dev.txt\n"
     ]
    }
   ],
   "source": [
    "fl_no = 2\n",
    "path_final = os.path.join(src_dir,lst_files[fl_no])\n",
    "print(path_final)"
   ]
  },
  {
   "cell_type": "code",
   "execution_count": 80,
   "metadata": {},
   "outputs": [
    {
     "name": "stdout",
     "output_type": "stream",
     "text": [
      "(5009, 3)\n"
     ]
    }
   ],
   "source": [
    "df = pd.DataFrame([])\n",
    "path_to_use = path_final\n",
    "ct = 0\n",
    "with open(path_to_use) as topo_file:\n",
    "    cnt = 0\n",
    "    cnt_sub = 0\n",
    "    ar_3,ar_4 = [],[]\n",
    "    ar_1,ar_2 = [],[]\n",
    "\n",
    "    for line in topo_file:\n",
    "        # if ct>120: break\n",
    "        # ct+=1\n",
    "\n",
    "        line = line.strip()    \n",
    "        if not line.strip(): continue\n",
    "\n",
    "        init_num = re.findall(r'\\d+',line)        \n",
    "\n",
    "        if init_num[0]=='1':\n",
    "\n",
    "            ar_5 = cnt\n",
    "            cnt+=1\n",
    "\n",
    "            if len(ar_3)==0: continue\n",
    "            \n",
    "            data = list(\n",
    "                zip(                 \n",
    "                    ar_3,\n",
    "                    ar_4,\n",
    "                    [ar_5]*len(ar_3)       \n",
    "                    ))\n",
    "\n",
    "            df = df.append(data,ignore_index=True)\n",
    "            cnt_sub = 0\n",
    "            ar_3,ar_4 = [],[]\n",
    "            continue\n",
    "\n",
    "        line_splits = line[2:].split('\\t')\n",
    "        ar_3.append(line_splits[0])\n",
    "        ar_4.append(line_splits[1])\n",
    "        cnt_sub+=1\n",
    "\n",
    "df = df.rename(columns={\n",
    "     0: 'Call',\n",
    "     1: 'Response',\n",
    "     2: 'Count'\n",
    "     })\n",
    "print(df.shape)\n",
    "fl_dst = lst_files[fl_no][:-3] + 'csv'\n",
    "path_dst_tmp = os.path.join(dst_tmp_dir,fl_dst)\n",
    "df.to_csv(path_dst_tmp,index=False)"
   ]
  },
  {
   "cell_type": "code",
   "execution_count": 81,
   "metadata": {},
   "outputs": [
    {
     "data": {
      "text/html": [
       "<div>\n",
       "<style scoped>\n",
       "    .dataframe tbody tr th:only-of-type {\n",
       "        vertical-align: middle;\n",
       "    }\n",
       "\n",
       "    .dataframe tbody tr th {\n",
       "        vertical-align: top;\n",
       "    }\n",
       "\n",
       "    .dataframe thead th {\n",
       "        text-align: right;\n",
       "    }\n",
       "</style>\n",
       "<table border=\"1\" class=\"dataframe\">\n",
       "  <thead>\n",
       "    <tr style=\"text-align: right;\">\n",
       "      <th></th>\n",
       "      <th>Call</th>\n",
       "      <th>Response</th>\n",
       "      <th>Count</th>\n",
       "    </tr>\n",
       "  </thead>\n",
       "  <tbody>\n",
       "    <tr>\n",
       "      <th>0</th>\n",
       "      <td>can you book a table for six people with frenc...</td>\n",
       "      <td>i'm on it</td>\n",
       "      <td>1</td>\n",
       "    </tr>\n",
       "    <tr>\n",
       "      <th>1</th>\n",
       "      <td>&lt;SILENCE&gt;</td>\n",
       "      <td>where should it be</td>\n",
       "      <td>1</td>\n",
       "    </tr>\n",
       "    <tr>\n",
       "      <th>2</th>\n",
       "      <td>in bombay</td>\n",
       "      <td>which price range are looking for</td>\n",
       "      <td>1</td>\n",
       "    </tr>\n",
       "    <tr>\n",
       "      <th>3</th>\n",
       "      <td>i am looking for a cheap restaurant</td>\n",
       "      <td>ok let me look into some options for you</td>\n",
       "      <td>1</td>\n",
       "    </tr>\n",
       "    <tr>\n",
       "      <th>4</th>\n",
       "      <td>&lt;SILENCE&gt;</td>\n",
       "      <td>api_call french bombay six cheap</td>\n",
       "      <td>1</td>\n",
       "    </tr>\n",
       "  </tbody>\n",
       "</table>\n",
       "</div>"
      ],
      "text/plain": [
       "                                                Call  \\\n",
       "0  can you book a table for six people with frenc...   \n",
       "1                                          <SILENCE>   \n",
       "2                                          in bombay   \n",
       "3                i am looking for a cheap restaurant   \n",
       "4                                          <SILENCE>   \n",
       "\n",
       "                                   Response  Count  \n",
       "0                                 i'm on it      1  \n",
       "1                        where should it be      1  \n",
       "2         which price range are looking for      1  \n",
       "3  ok let me look into some options for you      1  \n",
       "4          api_call french bombay six cheap      1  "
      ]
     },
     "execution_count": 81,
     "metadata": {},
     "output_type": "execute_result"
    }
   ],
   "source": [
    "df.head()"
   ]
  },
  {
   "cell_type": "code",
   "execution_count": 82,
   "metadata": {},
   "outputs": [],
   "source": [
    "prev_count = 0\n",
    "txt = []\n",
    "for i in range(len(df)):    \n",
    "    if df.iloc[i][2]!=prev_count:\n",
    "        prev_count = df.iloc[i][2]\n",
    "        txt.append('')\n",
    "        continue\n",
    "    txt.append('<context>')  \n",
    "df['TAG'] = txt"
   ]
  },
  {
   "cell_type": "code",
   "execution_count": 86,
   "metadata": {},
   "outputs": [
    {
     "name": "stdout",
     "output_type": "stream",
     "text": [
      "(5009, 2)\n"
     ]
    }
   ],
   "source": [
    "TAGS = [\n",
    "\n",
    "    '<profile> ',\n",
    "    ' <context>',\n",
    "    ' <user> ',\n",
    "    ' <system> ',\n",
    "    '<query> ']\n",
    "\n",
    "c = 0\n",
    "mn_ar_1 = []\n",
    "mn_ar_2 = []\n",
    "mn_ar_3 = []\n",
    "prev_count = 0\n",
    "prev_string = ''\n",
    "for i in range(len(df)):    \n",
    "    #if c > 100: break\n",
    "    c+=1    \n",
    "\n",
    "    if df.iloc[i][2]!=prev_count:\n",
    "        prev_string = ''\n",
    "        prev_count = df.iloc[i][2]\n",
    "    \n",
    "    a2 = df.iloc[i][0]\n",
    "    a3 = df.iloc[i][1]    \n",
    "    if prev_string=='':\n",
    "            call_string = prev_string + TAGS[4]+ a2    \n",
    "    else:\n",
    "        call_string = prev_string +' '+TAGS[4]+ a2  \n",
    "    prev_string = prev_string + TAGS[2]+  a2 + ' ' + TAGS[3] + a3\n",
    "    mn_ar_1.append(call_string)\n",
    "    mn_ar_2.append(a3)\n",
    "\n",
    "ndf = pd.DataFrame(            \n",
    "            list(zip(\n",
    "                mn_ar_1,mn_ar_2                  \n",
    "                )),\n",
    "\n",
    "            columns =[\n",
    "                'Call',\n",
    "                'Response'\n",
    "                ]\n",
    "                ) \n",
    "ndf['Call'] = df['TAG'] + ndf['Call']\n",
    "\n",
    "\n",
    "print(ndf.shape)\n",
    "fl_dst = lst_files[fl_no][:-3] + '.csv'\n",
    "path_dst = os.path.join(dst_dir,fl_dst)\n",
    "ndf.to_csv(path_dst,index=False)\n",
    "    "
   ]
  },
  {
   "cell_type": "code",
   "execution_count": 73,
   "metadata": {},
   "outputs": [
    {
     "data": {
      "text/html": [
       "<div>\n",
       "<style scoped>\n",
       "    .dataframe tbody tr th:only-of-type {\n",
       "        vertical-align: middle;\n",
       "    }\n",
       "\n",
       "    .dataframe tbody tr th {\n",
       "        vertical-align: top;\n",
       "    }\n",
       "\n",
       "    .dataframe thead th {\n",
       "        text-align: right;\n",
       "    }\n",
       "</style>\n",
       "<table border=\"1\" class=\"dataframe\">\n",
       "  <thead>\n",
       "    <tr style=\"text-align: right;\">\n",
       "      <th></th>\n",
       "      <th>Call</th>\n",
       "      <th>Response</th>\n",
       "    </tr>\n",
       "  </thead>\n",
       "  <tbody>\n",
       "    <tr>\n",
       "      <th>0</th>\n",
       "      <td>&lt;query&gt; can you book a table for six people w...</td>\n",
       "      <td>i'm on it</td>\n",
       "    </tr>\n",
       "    <tr>\n",
       "      <th>1</th>\n",
       "      <td>&lt;context&gt; &lt;user&gt; can you book a table for six ...</td>\n",
       "      <td>where should it be</td>\n",
       "    </tr>\n",
       "    <tr>\n",
       "      <th>2</th>\n",
       "      <td>&lt;context&gt; &lt;user&gt; can you book a table for six ...</td>\n",
       "      <td>which price range are looking for</td>\n",
       "    </tr>\n",
       "    <tr>\n",
       "      <th>3</th>\n",
       "      <td>&lt;context&gt; &lt;user&gt; can you book a table for six ...</td>\n",
       "      <td>ok let me look into some options for you</td>\n",
       "    </tr>\n",
       "    <tr>\n",
       "      <th>4</th>\n",
       "      <td>&lt;context&gt; &lt;user&gt; can you book a table for six ...</td>\n",
       "      <td>api_call french bombay six cheap</td>\n",
       "    </tr>\n",
       "    <tr>\n",
       "      <th>5</th>\n",
       "      <td>&lt;query&gt; can you make a restaurant reservation...</td>\n",
       "      <td>i'm on it</td>\n",
       "    </tr>\n",
       "    <tr>\n",
       "      <th>6</th>\n",
       "      <td>&lt;context&gt; &lt;user&gt; can you make a restaurant res...</td>\n",
       "      <td>where should it be</td>\n",
       "    </tr>\n",
       "    <tr>\n",
       "      <th>7</th>\n",
       "      <td>&lt;context&gt; &lt;user&gt; can you make a restaurant res...</td>\n",
       "      <td>ok let me look into some options for you</td>\n",
       "    </tr>\n",
       "    <tr>\n",
       "      <th>8</th>\n",
       "      <td>&lt;context&gt; &lt;user&gt; can you make a restaurant res...</td>\n",
       "      <td>api_call italian rome six cheap</td>\n",
       "    </tr>\n",
       "    <tr>\n",
       "      <th>9</th>\n",
       "      <td>&lt;query&gt; may i have a table with british cuisi...</td>\n",
       "      <td>i'm on it</td>\n",
       "    </tr>\n",
       "  </tbody>\n",
       "</table>\n",
       "</div>"
      ],
      "text/plain": [
       "                                                Call  \\\n",
       "0   <query> can you book a table for six people w...   \n",
       "1  <context> <user> can you book a table for six ...   \n",
       "2  <context> <user> can you book a table for six ...   \n",
       "3  <context> <user> can you book a table for six ...   \n",
       "4  <context> <user> can you book a table for six ...   \n",
       "5   <query> can you make a restaurant reservation...   \n",
       "6  <context> <user> can you make a restaurant res...   \n",
       "7  <context> <user> can you make a restaurant res...   \n",
       "8  <context> <user> can you make a restaurant res...   \n",
       "9   <query> may i have a table with british cuisi...   \n",
       "\n",
       "                                   Response  \n",
       "0                                 i'm on it  \n",
       "1                        where should it be  \n",
       "2         which price range are looking for  \n",
       "3  ok let me look into some options for you  \n",
       "4          api_call french bombay six cheap  \n",
       "5                                 i'm on it  \n",
       "6                        where should it be  \n",
       "7  ok let me look into some options for you  \n",
       "8           api_call italian rome six cheap  \n",
       "9                                 i'm on it  "
      ]
     },
     "execution_count": 73,
     "metadata": {},
     "output_type": "execute_result"
    }
   ],
   "source": [
    "ndf.head(10)"
   ]
  },
  {
   "cell_type": "code",
   "execution_count": 23,
   "metadata": {},
   "outputs": [
    {
     "name": "stdout",
     "output_type": "stream",
     "text": [
      "(5009, 2)\n"
     ]
    }
   ],
   "source": []
  },
  {
   "cell_type": "markdown",
   "metadata": {},
   "source": [
    "## loop define"
   ]
  },
  {
   "cell_type": "code",
   "execution_count": 99,
   "metadata": {},
   "outputs": [],
   "source": [
    "def convert_to_df(path_final):\n",
    "    df = pd.DataFrame([])\n",
    "    path_to_use = path_final\n",
    "    ct = 0\n",
    "    with open(path_to_use) as topo_file:\n",
    "        cnt = 0\n",
    "        cnt_sub = 0\n",
    "        ar_3,ar_4 = [],[]\n",
    "        ar_1,ar_2 = [],[]\n",
    "\n",
    "        for line in topo_file:\n",
    "            # if ct>120: break\n",
    "            # ct+=1\n",
    "\n",
    "            line = line.strip()    \n",
    "            if not line.strip(): continue\n",
    "\n",
    "            init_num = re.findall(r'\\d+',line)        \n",
    "\n",
    "            if init_num[0]=='1':\n",
    "\n",
    "                ar_5 = cnt\n",
    "                cnt+=1\n",
    "\n",
    "                if len(ar_3)==0: continue\n",
    "                \n",
    "                data = list(\n",
    "                    zip(                 \n",
    "                        ar_3,\n",
    "                        ar_4,\n",
    "                        [ar_5]*len(ar_3)       \n",
    "                        ))\n",
    "\n",
    "                df = df.append(data,ignore_index=True)\n",
    "                cnt_sub = 0\n",
    "                ar_3,ar_4 = [],[]\n",
    "                continue\n",
    "\n",
    "            line_splits = line[2:].split('\\t')\n",
    "            ar_3.append(line_splits[0])\n",
    "            ar_4.append(line_splits[1])\n",
    "            cnt_sub+=1\n",
    "\n",
    "    df = df.rename(columns={\n",
    "        0: 'Call',\n",
    "        1: 'Response',\n",
    "        2: 'Count'\n",
    "        })\n",
    "    print(df.shape)\n",
    "    fl_dst = lst_files[fl_no][:-3] + 'csv'\n",
    "    path_dst_tmp = os.path.join(dst_tmp_dir,fl_dst)\n",
    "    df.to_csv(path_dst_tmp,index=False)\n",
    "    return df\n",
    "\n",
    "TAGS = [\n",
    "\n",
    "    '<profile> ',\n",
    "    ' <context>',\n",
    "    ' <user> ',\n",
    "    ' <system> ',\n",
    "    '<query> ']\n",
    "\n",
    "def add_context(df):\n",
    "    prev_count = 0\n",
    "    txt = []\n",
    "    for i in range(len(df)):    \n",
    "        if df.iloc[i][2]!=prev_count:\n",
    "            prev_count = df.iloc[i][2]\n",
    "            txt.append('')\n",
    "            continue\n",
    "        txt.append('<context>')  \n",
    "    df['TAG'] = txt\n",
    "    return df\n",
    "\n",
    "\n",
    "\n",
    "def parse_from_df(df):\n",
    "    c = 0\n",
    "    mn_ar_1 = []\n",
    "    mn_ar_2 = []\n",
    "    mn_ar_3 = []\n",
    "    prev_count = 0\n",
    "    prev_string = ''\n",
    "    for i in range(len(df)):    \n",
    "        #if c > 100: break\n",
    "        c+=1    \n",
    "\n",
    "        if df.iloc[i][2]!=prev_count:\n",
    "            prev_string = ''\n",
    "            prev_count = df.iloc[i][2]\n",
    "        \n",
    "        a2 = df.iloc[i][0]\n",
    "        a3 = df.iloc[i][1]            \n",
    "        if prev_string=='':\n",
    "            call_string = prev_string + TAGS[4]+ a2    \n",
    "        else:\n",
    "            call_string = prev_string +' '+TAGS[4]+ a2    \n",
    "        prev_string = prev_string + TAGS[2]+ a2  + TAGS[3] + a3\n",
    "        mn_ar_1.append(call_string)\n",
    "        mn_ar_2.append(a3)\n",
    "\n",
    "    ndf = pd.DataFrame(            \n",
    "                list(zip(\n",
    "                    mn_ar_1,mn_ar_2                  \n",
    "                    )),\n",
    "\n",
    "                columns =[\n",
    "                    'Call',\n",
    "                    'Response'\n",
    "                    ]\n",
    "                    ) \n",
    "\n",
    "    ndf['Call'] = df['TAG'] + ndf['Call']\n",
    "    print(ndf.shape)\n",
    "    fl_dst = lst_files[fl_no][:-3] + '.csv'\n",
    "    path_dst = os.path.join(dst_dir,fl_dst)\n",
    "    ndf.to_csv(path_dst,index=False)   "
   ]
  },
  {
   "cell_type": "code",
   "execution_count": 91,
   "metadata": {},
   "outputs": [
    {
     "name": "stdout",
     "output_type": "stream",
     "text": [
      "C:\\Users\\ydjoe\\Documents\\nlp\\dialog-bAbI-tasks\\txt files\\dialog-babi-task1-API-calls-dev.txt\n",
      "C:\\Users\\ydjoe\\Documents\\nlp\\dialog-bAbI-tasks\\txt files\\dialog-babi-task1-API-calls-trn.txt\n",
      "C:\\Users\\ydjoe\\Documents\\nlp\\dialog-bAbI-tasks\\txt files\\dialog-babi-task1-API-calls-tst-OOV.txt\n",
      "C:\\Users\\ydjoe\\Documents\\nlp\\dialog-bAbI-tasks\\txt files\\dialog-babi-task1-API-calls-tst.txt\n",
      "C:\\Users\\ydjoe\\Documents\\nlp\\dialog-bAbI-tasks\\txt files\\dialog-babi-task2-API-refine-dev.txt\n",
      "C:\\Users\\ydjoe\\Documents\\nlp\\dialog-bAbI-tasks\\txt files\\dialog-babi-task2-API-refine-trn.txt\n",
      "C:\\Users\\ydjoe\\Documents\\nlp\\dialog-bAbI-tasks\\txt files\\dialog-babi-task2-API-refine-tst-OOV.txt\n",
      "C:\\Users\\ydjoe\\Documents\\nlp\\dialog-bAbI-tasks\\txt files\\dialog-babi-task2-API-refine-tst.txt\n"
     ]
    }
   ],
   "source": [
    "for i in range(2,10):\n",
    "    fl_no = i\n",
    "    path_final = os.path.join(src_dir,lst_files[fl_no])\n",
    "    print(path_final)"
   ]
  },
  {
   "cell_type": "markdown",
   "metadata": {},
   "source": [
    "## loop run"
   ]
  },
  {
   "cell_type": "code",
   "execution_count": 100,
   "metadata": {},
   "outputs": [
    {
     "name": "stdout",
     "output_type": "stream",
     "text": [
      "(5009, 3)\n",
      "(5009, 2)\n",
      "(5020, 3)\n",
      "(5020, 2)\n",
      "(5017, 3)\n",
      "(5017, 2)\n",
      "(4930, 3)\n",
      "(4930, 2)\n",
      "(8505, 3)\n",
      "(8505, 2)\n",
      "(8489, 3)\n",
      "(8489, 2)\n",
      "(8453, 3)\n",
      "(8453, 2)\n",
      "(8456, 3)\n",
      "(8456, 2)\n"
     ]
    }
   ],
   "source": [
    "for i in range(2,10):\n",
    "    fl_no = i\n",
    "    path_final = os.path.join(src_dir,lst_files[fl_no])\n",
    "    df = convert_to_df(path_final)\n",
    "    df = add_context(df)\n",
    "    parse_from_df(df)\n",
    "    "
   ]
  }
 ],
 "metadata": {
  "interpreter": {
   "hash": "540e2923c3b50c5b50181b56164d273ff885d61dafa41268e9f428c1d3e4caa0"
  },
  "kernelspec": {
   "display_name": "Python 3.9.6 ('venv')",
   "language": "python",
   "name": "python3"
  },
  "language_info": {
   "codemirror_mode": {
    "name": "ipython",
    "version": 3
   },
   "file_extension": ".py",
   "mimetype": "text/x-python",
   "name": "python",
   "nbconvert_exporter": "python",
   "pygments_lexer": "ipython3",
   "version": "3.9.6"
  },
  "orig_nbformat": 4
 },
 "nbformat": 4,
 "nbformat_minor": 2
}
